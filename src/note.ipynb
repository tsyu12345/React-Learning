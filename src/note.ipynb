{
 "cells": [
  {
   "cell_type": "markdown",
   "metadata": {},
   "source": [
    "# コンポーネントとprops"
   ]
  },
  {
   "cell_type": "markdown",
   "metadata": {},
   "source": [
    "* クラスコンポーネント：class構文で定義されたコンポーネント\n",
    "  * 現在はほとんど使われていない\n",
    "  * ReactHooksが登場したことで、関数コンポーネントの方が使いやすくなった\n",
    "* 関数コンポーネント：関数式で定義されたコンポーネント\n",
    "  * 現在の主流\n",
    "\n",
    "## 基本的な宣言と使用\n",
    "### 関数コンポーネントの宣言\n",
    "\n",
    "* １コンポーネントは１ファイルに書く\n",
    "* ファイル名は大文字始まり\n",
    "* Button.jsx（子コンポーネント）\n",
    "    ```jsx\n",
    "    const Button = (props) => {\n",
    "        return <h2>Hello</h2>\n",
    "    }:\n",
    "    export default Button;\n",
    "    ```\n",
    "* App.jsx（親コンポーネント）\n",
    "    ```jsx\n",
    "    import Button from './Button';\n",
    "\n",
    "    const App = () => {\n",
    "        return (\n",
    "            <div>\n",
    "                <Button /> // 子コンポーネントを呼び出す\n",
    "            </div>\n",
    "        );\n",
    "    }:\n",
    "    export default App;\n",
    "    ```\n"
   ]
  },
  {
   "cell_type": "markdown",
   "metadata": {},
   "source": [
    "### propsの受け渡し\n",
    "\n",
    "* 通常の関数の引数のように、再利用性を高めたい場合、props.fooで受け渡す。\n",
    "  * インタンス変数とおんなじ概念\n",
    "* 基本的には{}で囲んで値を渡す。\n",
    "* 文字列の場合は、\"\"で囲むのみでも可。\n",
    "* Button.jsx（子コンポーネント）\n",
    "    ```jsx\n",
    "    const Button = (props) => {\n",
    "        return (\n",
    "            <h2>{props.string}</h2>\n",
    "            <h2>{props.number}</h2>\n",
    "            <h2>{props.boolean}</h2>\n",
    "            <h2>{props.array}</h2>\n",
    "            );\n",
    "    }:\n",
    "    export default Button;\n",
    "    ```\n",
    "* App.jsx（親コンポーネント）\n",
    "    ```jsx\n",
    "    import Button from './Button';\n",
    "\n",
    "    const App = () => {\n",
    "        return (\n",
    "            <div>\n",
    "                <Button \n",
    "                    string=\"Hello\" // props.stringに渡す\n",
    "                    number={1} // props.numberに渡す\n",
    "                    boolean={true} // props.booleanに渡す\n",
    "                    array={[1, 2, 3]} // props.arrayに渡す\n",
    "                /> \n",
    "            </div>\n",
    "        );\n",
    "    }:\n",
    "    export default App;"
   ]
  },
  {
   "cell_type": "markdown",
   "metadata": {},
   "source": []
  },
  {
   "cell_type": "markdown",
   "metadata": {},
   "source": [
    "## コンポーネントの再利用\n",
    "\n",
    "* 通常のオブジェクト指向のように、同じコンポーネントを再利用することができる。\n",
    "* 同じ性質、CSSを持つコンポーネントを再利用することができ、文章など中身だけ変えることができる。\n",
    "* arary.mapを使うことで、配列の中身を一つずつ取り出して、コンポーネントを再利用することができる。\n",
    "  * App.jsx（親コンポーネント）\n",
    "    ```jsx\n",
    "    import Button from './Button';\n",
    "\n",
    "    const App = () => {\n",
    "        return (\n",
    "            <div>\n",
    "                <Button \n",
    "                    string=\"Hello\" // props.stringに渡す\n",
    "                    number={1} // props.numberに渡す\n",
    "                    boolean={true} // props.booleanに渡す\n",
    "                    array={[1, 2, 3]} // props.arrayに渡す\n",
    "                />\n",
    "                <Button \n",
    "                    string=\"FUCK\" // props.stringに渡す\n",
    "                    number={2} // props.numberに渡す\n",
    "                    boolean={false} // props.booleanに渡す\n",
    "                    array={[1, 2, 4]} // props.arrayに渡す\n",
    "                /> \n",
    "            </div>\n",
    "        );\n",
    "    }:\n",
    "    export default App;"
   ]
  },
  {
   "cell_type": "markdown",
   "metadata": {},
   "source": [
    "# コンポーネントのimportとexport"
   ]
  },
  {
   "cell_type": "markdown",
   "metadata": {},
   "source": [
    "* JSでは、以下のようにexport する場合、エントリポイント（呼び出し時）にはdefaultという名前でimportされる。\n",
    "  ```jsx\n",
    "  /*コンポーネント側*/\n",
    "  const Button = (props) => {\n",
    "      return <h2>props.text</h2>\n",
    "  }:\n",
    "  export default Button; //ここでButtonコンポーネントはdefaultという名前でexportされる\n",
    "  ```\n",
    "* 複数のコンポーネントがあると、呼び出しがわではすべてdefaultという名前になるので区別がつかなくなる。\n",
    "* そこで、　複数のコンポーネントが同ディレクトリにある場合。そのディレクトリ内に各コンポーネントをまとめるエントリポイントを用意し、別名exportを行う。\n",
    "```jsx\n",
    "/*エントリポイントindex.js*/\n",
    "export { default as Button } from './Button';\n",
    "export { default as Button2 } from './Button2';\n",
    "\n",
    "/*呼びだし側*/\n",
    "import { Button, Button2 } from './components/index'; //このように、同階層内にある複数のコンポーネントをまとめてimportできる。\n",
    "``` "
   ]
  }
 ],
 "metadata": {
  "kernelspec": {
   "display_name": "Python 3.9.6 64-bit ('3.9.6')",
   "language": "python",
   "name": "python3"
  },
  "language_info": {
   "name": "python",
   "version": "3.9.6"
  },
  "orig_nbformat": 4,
  "vscode": {
   "interpreter": {
    "hash": "aefc3462955771719f87d2e1d0531f951bd2f0dab215be6b647d9147eefb747b"
   }
  }
 },
 "nbformat": 4,
 "nbformat_minor": 2
}
